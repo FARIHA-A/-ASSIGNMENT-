{
 "cells": [
  {
   "cell_type": "code",
   "execution_count": 23,
   "metadata": {},
   "outputs": [
    {
     "name": "stdout",
     "output_type": "stream",
     "text": [
      "Model Name : Civic\n",
      "Model Year : 2019,\n",
      "Color : Black\n",
      "Millage : 42 km\\l\n",
      "Cost : 2,000,000\n",
      "\n",
      "\n",
      "Model Name : Toyota\n",
      "Model Year : 2014,\n",
      "Color : Red\n",
      "Millage : 40 km\\l\n",
      "Cost : 1,200,000\n",
      "\n",
      "\n",
      "Model Name : Mehran\n",
      "Model Year : 2006,\n",
      "Color : Black\n",
      "Millage : 40 km\\l\n",
      "Cost : 300,000\n",
      "\n",
      "\n",
      "Model Name : Civic\n",
      "Model Year : 2013,\n",
      "Color : Black\n",
      "Millage : 40 km\\l\n",
      "Cost : 800,000\n",
      "\n",
      "\n",
      "Model Name : Cultus\n",
      "Model Year : 2010,\n",
      "Color : White\n",
      "Millage : 40 km\\l\n",
      "Cost : 500,000\n",
      "\n",
      "\n"
     ]
    }
   ],
   "source": [
    "class Car():\n",
    "\n",
    "    def __init__(self,model_name, model_year, color, millage,value):\n",
    "        self.model_name = model_name\n",
    "        self.model_year = model_year\n",
    "        self.color = color \n",
    "        self.millage = millage\n",
    "        self.value  = value\n",
    "        \n",
    "        \n",
    "        # instance method\n",
    "    def updateCC(self,newcc):\n",
    "        self.newcc = newcc\n",
    "    def updatecolour(self,newcolour):\n",
    "        self.newcolour = newcolour\n",
    "    def description(self):\n",
    "        Detail = print(f\"Model Name : {self.model_name}\\nModel Year : {self.model_year},\\nColor : {self.color}\\nMillage : {self.millage}\\nCost : {self.value}\\n\\n\")\n",
    "        return Detail\n",
    "\n",
    "car1 = Car(\"Civic\", 2019,\"Black\",\"42 km\\l\",\"2,000,000\")\n",
    "car1.description()\n",
    "\n",
    "car2 = Car(\"Toyota\", 2014,\"Red\",\"40 km\\l\",\"1,200,000\")\n",
    "car2.description()\n",
    "\n",
    "car3 = Car(\"Mehran\", 2006,\"Black\",\"40 km\\l\",\"300,000\")\n",
    "car3.description()\n",
    "\n",
    "car4 = Car(\"Civic\", 2013,\"Black\",\"40 km\\l\",\"800,000\")\n",
    "car4.description()\n",
    "\n",
    "car5 = Car(\"Cultus\", 2010,\"White\",\"40 km\\l\",\"500,000\")\n",
    "car5.description()"
   ]
  },
  {
   "cell_type": "code",
   "execution_count": null,
   "metadata": {},
   "outputs": [],
   "source": []
  },
  {
   "cell_type": "code",
   "execution_count": null,
   "metadata": {},
   "outputs": [],
   "source": []
  },
  {
   "cell_type": "code",
   "execution_count": null,
   "metadata": {},
   "outputs": [],
   "source": []
  },
  {
   "cell_type": "code",
   "execution_count": null,
   "metadata": {},
   "outputs": [],
   "source": []
  },
  {
   "cell_type": "code",
   "execution_count": null,
   "metadata": {},
   "outputs": [],
   "source": []
  },
  {
   "cell_type": "code",
   "execution_count": null,
   "metadata": {},
   "outputs": [],
   "source": []
  }
 ],
 "metadata": {
  "kernelspec": {
   "display_name": "Python 3",
   "language": "python",
   "name": "python3"
  },
  "language_info": {
   "codemirror_mode": {
    "name": "ipython",
    "version": 3
   },
   "file_extension": ".py",
   "mimetype": "text/x-python",
   "name": "python",
   "nbconvert_exporter": "python",
   "pygments_lexer": "ipython3",
   "version": "3.7.3"
  }
 },
 "nbformat": 4,
 "nbformat_minor": 2
}
