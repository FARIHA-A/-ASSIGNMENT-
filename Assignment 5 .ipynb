{
 "cells": [
  {
   "cell_type": "code",
   "execution_count": 1,
   "metadata": {
    "cocalc": {
     "outputs": {
      "0": {
       "name": "input",
       "opts": {
        "password": false,
        "prompt": "Enter Number for Factorail "
       },
       "output_type": "stream",
       "value": "5"
      }
     }
    },
    "collapsed": false
   },
   "outputs": [
    {
     "name": "stdout",
     "output_type": "stream",
     "text": "Enter Number for Factorail  5"
    },
    {
     "name": "stdout",
     "output_type": "stream",
     "text": [
      "The Factorail of the  5  is  120\n"
     ]
    }
   ],
   "source": [
    "def factorail(n):\n",
    "  fact = 1\n",
    "  for i in range(1,n+1): \n",
    "    fact = fact * i\n",
    "  return fact\n",
    "\n",
    "\n",
    "\n",
    "while(True):\n",
    "  num = int(input(\"Enter Number for Factorail \"))\n",
    "  if num>=0:\n",
    "    facto = factorail(num)\n",
    "    print(\"The Factorail of the \",num,\" is \",facto)\n",
    "    break\n",
    "  else:\n",
    "    print(\"Please give the none negative value\")"
   ]
  },
  {
   "cell_type": "code",
   "execution_count": 2,
   "metadata": {
    "cocalc": {
     "outputs": {
      "0": {
       "name": "input",
       "opts": {
        "password": false,
        "prompt": "Enter your String: "
       },
       "output_type": "stream",
       "value": "My name is Fariha"
      }
     }
    },
    "collapsed": false
   },
   "outputs": [
    {
     "name": "stdout",
     "output_type": "stream",
     "text": "Enter your String:  My name is Fariha"
    },
    {
     "name": "stdout",
     "output_type": "stream",
     "text": [
      "\n",
      "\n",
      "Upper Letters are :  2\n",
      "Lower Letters are :  12\n"
     ]
    }
   ],
   "source": [
    "def calculateUL(s):\n",
    "  \n",
    "  d = {\n",
    "   'upper' : 0 ,\n",
    "  'lower' : 0   \n",
    "  }\n",
    "  for i in list(s):\n",
    "    if i.isalpha():\n",
    "      if i.isupper():\n",
    "        d['upper'] += 1\n",
    "      else:\n",
    "        d['lower'] += 1\n",
    "  \n",
    "  return d\n",
    "\n",
    "\n",
    "\n",
    "inputforstringc = input(\"Enter your String: \")\n",
    "\n",
    "valuesUL = calculateUL(inputforstringc)\n",
    "\n",
    "print(\"\\n\")\n",
    "print(\"Upper Letters are : \",valuesUL['upper'])\n",
    "print(\"Lower Letters are : \",valuesUL['lower'])"
   ]
  },
  {
   "cell_type": "code",
   "execution_count": 3,
   "metadata": {
    "collapsed": false
   },
   "outputs": [
    {
     "name": "stdout",
     "output_type": "stream",
     "text": [
      "4  is Even Number \n",
      "84  is Even Number \n",
      "6  is Even Number \n",
      "8  is Even Number \n"
     ]
    }
   ],
   "source": [
    "def evenNumbers(listofnum):\n",
    "  for i in listofnum:\n",
    "    if i%2 == 0:\n",
    "      print(i,\" is Even Number \")\n",
    "\n",
    "evenNumbers([1,3,4,84,23,6,8,65,87,45,23])"
   ]
  },
  {
   "cell_type": "code",
   "execution_count": 4,
   "metadata": {
    "collapsed": false
   },
   "outputs": [
    {
     "name": "stdout",
     "output_type": "stream",
     "text": [
      "CIVIC is Palindrome\n"
     ]
    }
   ],
   "source": [
    "def isPalindrome(s): \n",
    "    # Calling reverse function \n",
    "    s = s.lower()\n",
    "    rev = s[::-1] \n",
    "  \n",
    "    # Checking if both string are equal or not \n",
    "    if s == rev: \n",
    "      return True\n",
    "\n",
    "    return False\n",
    "\n",
    "svalue = \"CIVIC\"\n",
    "\n",
    "v = isPalindrome(svalue)\n",
    "\n",
    "if v:\n",
    "  print(svalue,\"is Palindrome\")\n",
    "else:\n",
    "  print(svalue,\"is not Palindrome\")"
   ]
  },
  {
   "cell_type": "code",
   "execution_count": 5,
   "metadata": {
    "cocalc": {
     "outputs": {
      "0": {
       "name": "input",
       "opts": {
        "password": false,
        "prompt": "Enter Sample Numebr only integers :"
       },
       "output_type": "stream",
       "value": "5"
      }
     }
    },
    "collapsed": false
   },
   "outputs": [
    {
     "name": "stdout",
     "output_type": "stream",
     "text": "Enter Sample Numebr only integers : 5"
    },
    {
     "name": "stdout",
     "output_type": "stream",
     "text": [
      "5 is a prime number\n"
     ]
    }
   ],
   "source": [
    "def primeCheck(num):\n",
    "  if num > 1:\n",
    "    for i in range(2,num):\n",
    "      if (num % i) == 0:\n",
    "        return False\n",
    "        break\n",
    "    else:\n",
    "      return True \n",
    "  else:\n",
    "    return False\n",
    "\n",
    "\n",
    "sampleNum = int(input(\"Enter Sample Numebr only integers :\"))\n",
    "\n",
    "v =  primeCheck(sampleNum)\n",
    "\n",
    "if v:\n",
    "   print(sampleNum,\"is a prime number\")\n",
    "else:\n",
    "  print(sampleNum,\"is not a prime number\")"
   ]
  },
  {
   "cell_type": "code",
   "execution_count": 6,
   "metadata": {
    "collapsed": false
   },
   "outputs": [
    {
     "name": "stdout",
     "output_type": "stream",
     "text": [
      "Items :\n",
      "\n",
      "Fruits\n",
      "Vegetables\n",
      "Milk\n",
      "Chicken \n"
     ]
    }
   ],
   "source": [
    "def listofItems(*v):\n",
    "  for i in v:\n",
    "    print(i)\n",
    "\n",
    "print(\"Items :\\n\")\n",
    "listofItems(\"Fruits\",\"Vegetables\",\"Milk\", \"Chicken \")\n"
   ]
  },
  {
   "cell_type": "code",
   "execution_count": 0,
   "metadata": {
    "collapsed": false
   },
   "outputs": [
   ],
   "source": [
   ]
  }
 ],
 "metadata": {
  "kernelspec": {
   "display_name": "Python 3 (Anaconda 2019)",
   "env": {
    "LD_LIBRARY_PATH": "/ext/anaconda-2019.03/lib",
    "PROJ_LIB": "/ext/anaconda-2019.03/share/proj",
    "PYTHONHOME": "/ext/anaconda-2019.03/lib/python3.7",
    "PYTHONPATH": "/ext/anaconda-2019.03/lib/python3.7:/ext/anaconda-2019.03/lib/python3.7/site-packages"
   },
   "language": "python",
   "metadata": {
    "cocalc": {
     "description": "Python/R distribution for data science",
     "priority": 5,
     "url": "https://www.anaconda.com/distribution/"
    }
   },
   "name": "anaconda2019"
  },
  "language_info": {
   "codemirror_mode": {
    "name": "ipython",
    "version": 3
   },
   "file_extension": ".py",
   "mimetype": "text/x-python",
   "name": "python",
   "nbconvert_exporter": "python",
   "pygments_lexer": "ipython3",
   "version": "3.7.3"
  }
 },
 "nbformat": 4,
 "nbformat_minor": 0
}