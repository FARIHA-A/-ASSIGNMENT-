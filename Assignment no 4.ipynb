{
 "cells": [
  {
   "cell_type": "markdown",
   "metadata": {},
   "source": [
    "# Question no 1"
   ]
  },
  {
   "cell_type": "code",
   "execution_count": 13,
   "metadata": {},
   "outputs": [
    {
     "name": "stdout",
     "output_type": "stream",
     "text": [
      "first_name  :  FaRayHa\n",
      "\n",
      "\n",
      "last_name  :  AQeel\n",
      "\n",
      "\n",
      "age  :  20\n",
      "\n",
      "\n",
      "city  :  karachi\n",
      "\n",
      "\n",
      "After adding new Key:\n",
      "{'first_name': 'FaRayHa', 'last_name': 'AQeel', 'age': 20, 'city': 'karachi', 'qualification': ''}\n",
      "\n",
      "\n",
      "After updating Key:\n",
      "{'first_name': 'FaRayHa', 'last_name': 'AQeel', 'age': 20, 'city': 'karachi', 'qualification': 'intermediate'}\n",
      "\n",
      "\n",
      "After deleting key and value:\n",
      "{'first_name': 'FaRayHa', 'last_name': 'AQeel', 'age': 20, 'city': 'karachi'}\n",
      "\n",
      "\n"
     ]
    }
   ],
   "source": [
    "#Dictionary\n",
    "d1= {\"first_name\":\"FaRayHa\",\n",
    "     \"last_name\":\"AQeel\",\n",
    "     \"age\":20,\n",
    "     \"city\":\"karachi\"}\n",
    "\n",
    "#printing each items\n",
    "for k,d in d1.items():\n",
    "    print(k,\" : \",d)\n",
    "    print(\"\\n\")\n",
    "\n",
    "#adding a new key\n",
    "\n",
    "d1[\"qualification\"]=\"\"\n",
    "print(\"After adding new Key:\")\n",
    "print(d1)\n",
    "print(\"\\n\")\n",
    "\n",
    "#update a kay\n",
    "print(\"After updating Key:\")\n",
    "d1[\"qualification\"]=\"intermediate\"\n",
    "print(d1)\n",
    "print(\"\\n\")\n",
    "\n",
    "#deleting a key and value\n",
    "print(\"After deleting key and value:\")\n",
    "del d1[\"qualification\"]\n",
    "print(d1)\n",
    "print(\"\\n\")"
   ]
  },
  {
   "cell_type": "markdown",
   "metadata": {},
   "source": [
    "# Question no 2"
   ]
  },
  {
   "cell_type": "code",
   "execution_count": 11,
   "metadata": {},
   "outputs": [
    {
     "name": "stdout",
     "output_type": "stream",
     "text": [
      "Karachi \n",
      "\n",
      "Country  :  Pakistan\n",
      "\n",
      "Population  :  14 million\n",
      "\n",
      "Fact  :  City of lights\n",
      "\n",
      "Lahore \n",
      "\n",
      "Country  :  Pakistan\n",
      "\n",
      "Population  :  11 million\n",
      "\n",
      "Fact  :  City of food\n",
      "\n",
      "Islamabad \n",
      "\n",
      "Country  :  Pakistan\n",
      "\n",
      "Population  :  1 million\n",
      "\n",
      "Fact  :  Capital of pakistan\n",
      "\n"
     ]
    }
   ],
   "source": [
    "cities={\n",
    "        \"karachi\":{\n",
    "                    \"country\":\"Pakistan\",\n",
    "                    \"population\":\"14 million\",\n",
    "                    \"fact\":\"City of lights\"\n",
    "                    },\n",
    "        \"lahore\":{\n",
    "                    \"country\":\"Pakistan\",\n",
    "                    \"population\":\"11 million\",\n",
    "                    \"fact\":\"City of food\"\n",
    "                  },\n",
    "        \"islamabad\":{\n",
    "                    \"country\":\"Pakistan\",\n",
    "                    \"population\":\"1 million\",\n",
    "                    \"fact\":\"Capital of Pakistan\" \n",
    "        }\n",
    "}\n",
    "for k,v in cities.items():\n",
    "    print(k.capitalize(),\"\\n\")\n",
    "    for d,e in v.items():\n",
    "        print(d.capitalize(),\" : \",e.capitalize())\n",
    "        print()"
   ]
  },
  {
   "cell_type": "markdown",
   "metadata": {},
   "source": [
    "# Question no 3"
   ]
  },
  {
   "cell_type": "code",
   "execution_count": 8,
   "metadata": {},
   "outputs": [
    {
     "name": "stdout",
     "output_type": "stream",
     "text": [
      "Enter your age !23\n",
      "Your ticket is for 50$\n",
      "Do you wanna ask again  ?(y/n)Y\n",
      "Enter your age !3\n",
      "Your ticket is for 25$\n",
      "Do you wanna ask again  ?(y/n)N\n"
     ]
    }
   ],
   "source": [
    "while True:\n",
    "    age=int(input(\"Enter your age !\"))\n",
    "    if age <3:\n",
    "        print(\"Your ticket is Free\")\n",
    "    elif age >=3 and age <=12:\n",
    "        print(\"Your ticket is for 25$\")\n",
    "    elif age > 12:\n",
    "        print(\"Your ticket is for 50$\")\n",
    "  \n",
    "    d = input(\"Do you wanna ask again  ?(y/n) \")\n",
    "    if d.lower() == \"n\":\n",
    "         break"
   ]
  },
  {
   "cell_type": "markdown",
   "metadata": {},
   "source": [
    "# Question no 4"
   ]
  },
  {
   "cell_type": "code",
   "execution_count": 7,
   "metadata": {},
   "outputs": [
    {
     "name": "stdout",
     "output_type": "stream",
     "text": [
      "My favorite book title is Alice in Wonderland.\n"
     ]
    }
   ],
   "source": [
    "def favorite_book(title):\n",
    "    return print(\"My favorite book title is \"+title)\n",
    "\n",
    "msg = favorite_book(\"Alice in Wonderland.\")\n"
   ]
  },
  {
   "cell_type": "markdown",
   "metadata": {},
   "source": [
    "# Question no 5"
   ]
  },
  {
   "cell_type": "code",
   "execution_count": 5,
   "metadata": {},
   "outputs": [
    {
     "name": "stdout",
     "output_type": "stream",
     "text": [
      "Enter a number !32\n",
      "Try a smaller number !\n",
      "Remaining turn 2\n",
      "Enter a number !89\n",
      "Try a smaller number !\n",
      "Remaining turn 1\n",
      "Enter a number !12\n",
      "Try a smaller number !\n",
      "Remaining turn 0\n",
      "You have no turn left !\n"
     ]
    }
   ],
   "source": [
    "import random\n",
    "r=random.randrange(1,31)\n",
    "i = 3\n",
    "while True:\n",
    "  \n",
    "    if i==0:\n",
    "        print(\"You have no turn left !\")\n",
    "        break\n",
    "    a=int(input(\"Enter a number !\"))\n",
    "    if r==a:\n",
    "        print(\"Your answer is correct\")\n",
    "        break\n",
    "    elif r>a:\n",
    "        print(\"Try a greater number !\")\n",
    "        i -=1\n",
    "        print(\"Remaining turn\",i)\n",
    "    elif r<a:\n",
    "        print(\"Try a smaller number !\")\n",
    "        i -=1\n",
    "        print(\"Remaining turn\",i)\n"
   ]
  },
  {
   "cell_type": "code",
   "execution_count": null,
   "metadata": {},
   "outputs": [],
   "source": []
  }
 ],
 "metadata": {
  "kernelspec": {
   "display_name": "Python 3",
   "language": "python",
   "name": "python3"
  },
  "language_info": {
   "codemirror_mode": {
    "name": "ipython",
    "version": 3
   },
   "file_extension": ".py",
   "mimetype": "text/x-python",
   "name": "python",
   "nbconvert_exporter": "python",
   "pygments_lexer": "ipython3",
   "version": "3.7.3"
  }
 },
 "nbformat": 4,
 "nbformat_minor": 2
}
